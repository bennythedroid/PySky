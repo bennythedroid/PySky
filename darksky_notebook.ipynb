{
 "cells": [
  {
   "cell_type": "code",
   "execution_count": 40,
   "metadata": {},
   "outputs": [],
   "source": [
    "%run darksky_methods.py"
   ]
  },
  {
   "cell_type": "code",
   "execution_count": 51,
   "metadata": {},
   "outputs": [
    {
     "data": {
      "text/plain": [
       "{'exclude': ('minutely', 'hourly', 'daily', 'alerts', 'flags')}"
      ]
     },
     "execution_count": 51,
     "metadata": {},
     "output_type": "execute_result"
    }
   ],
   "source": [
    "params={}\n",
    "params['exclude'] = ('minutely','hourly','daily','alerts','flags')\n",
    "params"
   ]
  },
  {
   "cell_type": "code",
   "execution_count": 53,
   "metadata": {},
   "outputs": [
    {
     "data": {
      "text/plain": [
       "'https://api.darksky.net/forecast/34e20d9941ae628fa27ca2fd15a31adc/47.165197,-122.171723'"
      ]
     },
     "execution_count": 53,
     "metadata": {},
     "output_type": "execute_result"
    }
   ],
   "source": [
    "api_key = \"34e20d9941ae628fa27ca2fd15a31adc\"\n",
    "lat_long = \"47.165197,-122.171723\"\n",
    "url = 'https://api.darksky.net/forecast/' + api_key + '/' + lat_long\n",
    "url"
   ]
  },
  {
   "cell_type": "code",
   "execution_count": 57,
   "metadata": {},
   "outputs": [
    {
     "name": "stdout",
     "output_type": "stream",
     "text": [
      "https://api.darksky.net/forecast/34e20d9941ae628fa27ca2fd15a31adc/47.165197,-122.171723?exclude=minutely&exclude=hourly&exclude=daily&exclude=alerts&exclude=flags\n"
     ]
    },
    {
     "data": {
      "text/plain": [
       "{'time': 1533373043,\n",
       " 'summary': 'Clear',\n",
       " 'icon': 'clear-night',\n",
       " 'nearestStormDistance': 8,\n",
       " 'nearestStormBearing': 191,\n",
       " 'precipIntensity': 0,\n",
       " 'precipProbability': 0,\n",
       " 'temperature': 58.53,\n",
       " 'apparentTemperature': 58.53,\n",
       " 'dewPoint': 54.66,\n",
       " 'humidity': 0.87,\n",
       " 'pressure': 1018.65,\n",
       " 'windSpeed': 1.56,\n",
       " 'windGust': 3.89,\n",
       " 'windBearing': 353,\n",
       " 'cloudCover': 0.14,\n",
       " 'uvIndex': 0,\n",
       " 'visibility': 7.03,\n",
       " 'ozone': 322.98}"
      ]
     },
     "execution_count": 57,
     "metadata": {},
     "output_type": "execute_result"
    }
   ],
   "source": [
    "response = return_darksky_response(url, params, 10)\n",
    "\n",
    "json = response.json()\n",
    "json['currently']"
   ]
  },
  {
   "cell_type": "code",
   "execution_count": 50,
   "metadata": {},
   "outputs": [
    {
     "name": "stdout",
     "output_type": "stream",
     "text": [
      "Basic db info: \n",
      "Database(MongoClient(host=['localhost:27017'], document_class=dict, tz_aware=False, connect=True), 'darksky')\n",
      "Number of arguments: 6 arguments.\n",
      "Argument List: ['dark_sky_api_call.py', '34e20d9941ae628fa27ca2fd15a31adc', '1270105200', '1', '1', '47.165197,-122.171723']\n",
      "list of vars\n",
      "34e20d9941ae628fa27ca2fd15a31adc\n",
      "1270105200\n",
      "1\n",
      "1\n",
      "47.165197,-122.171723\n",
      "https://api.darksky.net/forecast/34e20d9941ae628fa27ca2fd15a31adc/47.165197,-122.171723,1270105200?exclude=minutely&exclude=hourly&exclude=daily&exclude=alerts&exclude=flags\n",
      "{'latitude': 47.165197, 'longitude': -122.171723, 'timezone': 'America/Los_Angeles', 'currently': {'time': 1270105200, 'summary': 'Mostly Cloudy', 'icon': 'partly-cloudy-night', 'precipIntensity': 0, 'precipProbability': 0, 'temperature': 39.02, 'apparentTemperature': 39.02, 'dewPoint': 36.16, 'humidity': 0.89, 'pressure': 1014.47, 'windSpeed': 0.78, 'windGust': 1.61, 'windBearing': 167, 'cloudCover': 0.92, 'visibility': 10}, 'hourly': {'summary': 'Mostly cloudy throughout the day.', 'icon': 'partly-cloudy-day', 'data': [{'time': 1270105200, 'summary': 'Mostly Cloudy', 'icon': 'partly-cloudy-night', 'precipIntensity': 0, 'precipProbability': 0, 'temperature': 39.02, 'apparentTemperature': 39.02, 'dewPoint': 36.16, 'humidity': 0.89, 'pressure': 1014.47, 'windSpeed': 0.78, 'windGust': 1.61, 'windBearing': 167, 'cloudCover': 0.92, 'visibility': 10}, {'time': 1270108800, 'summary': 'Mostly Cloudy', 'icon': 'partly-cloudy-night', 'precipIntensity': 0.0006, 'precipProbability': 0.07, 'precipType': 'rain', 'temperature': 39.14, 'apparentTemperature': 39.14, 'dewPoint': 36.43, 'humidity': 0.9, 'pressure': 1014.71, 'windSpeed': 0.96, 'windGust': 1.7, 'windBearing': 161, 'cloudCover': 0.81, 'visibility': 10}, {'time': 1270112400, 'summary': 'Partly Cloudy', 'icon': 'partly-cloudy-night', 'precipIntensity': 0.0039, 'precipProbability': 0.18, 'precipType': 'rain', 'temperature': 38.31, 'apparentTemperature': 38.31, 'dewPoint': 36, 'humidity': 0.91, 'pressure': 1014.86, 'windSpeed': 0.98, 'windGust': 1.23, 'windBearing': 155, 'cloudCover': 0.45, 'visibility': 10}, {'time': 1270116000, 'summary': 'Mostly Cloudy', 'icon': 'partly-cloudy-night', 'precipIntensity': 0.0014, 'precipProbability': 0.08, 'precipType': 'rain', 'temperature': 37.83, 'apparentTemperature': 37.83, 'dewPoint': 35.65, 'humidity': 0.92, 'pressure': 1014.98, 'windSpeed': 0.87, 'windGust': 1.19, 'windBearing': 173, 'cloudCover': 0.84, 'visibility': 10}, {'time': 1270119600, 'summary': 'Overcast', 'icon': 'cloudy', 'precipIntensity': 0.0012, 'precipProbability': 0.02, 'precipType': 'rain', 'temperature': 38.02, 'apparentTemperature': 38.02, 'dewPoint': 35.89, 'humidity': 0.92, 'pressure': 1014.91, 'windSpeed': 0.96, 'windGust': 1.42, 'windBearing': 161, 'cloudCover': 1, 'visibility': 10}, {'time': 1270123200, 'summary': 'Mostly Cloudy', 'icon': 'partly-cloudy-night', 'precipIntensity': 0.0014, 'precipProbability': 0.06, 'precipType': 'rain', 'temperature': 37.61, 'apparentTemperature': 37.61, 'dewPoint': 35.46, 'humidity': 0.92, 'pressure': 1014.99, 'windSpeed': 1.11, 'windGust': 1.38, 'windBearing': 159, 'cloudCover': 0.81, 'visibility': 10}, {'time': 1270126800, 'summary': 'Mostly Cloudy', 'icon': 'partly-cloudy-night', 'precipIntensity': 0.0006, 'precipProbability': 0.05, 'precipType': 'rain', 'temperature': 36.43, 'apparentTemperature': 36.43, 'dewPoint': 34.31, 'humidity': 0.92, 'pressure': 1014.93, 'windSpeed': 1.19, 'windGust': 1.78, 'windBearing': 154, 'cloudCover': 0.82, 'visibility': 10}, {'time': 1270130400, 'summary': 'Mostly Cloudy', 'icon': 'partly-cloudy-day', 'precipIntensity': 0, 'precipProbability': 0, 'temperature': 36.74, 'apparentTemperature': 36.74, 'dewPoint': 34.36, 'humidity': 0.91, 'pressure': 1014.94, 'windSpeed': 1.24, 'windGust': 2.41, 'windBearing': 161, 'cloudCover': 0.87, 'visibility': 10}, {'time': 1270134000, 'summary': 'Mostly Cloudy', 'icon': 'partly-cloudy-day', 'precipIntensity': 0, 'precipProbability': 0, 'temperature': 37.99, 'apparentTemperature': 37.99, 'dewPoint': 35.42, 'humidity': 0.9, 'pressure': 1015.25, 'windSpeed': 1.32, 'windGust': 2.15, 'windBearing': 170, 'cloudCover': 0.86, 'visibility': 10}, {'time': 1270137600, 'summary': 'Overcast', 'icon': 'cloudy', 'precipIntensity': 0.0011, 'precipProbability': 0.05, 'precipType': 'rain', 'temperature': 40.87, 'apparentTemperature': 40.87, 'dewPoint': 36.62, 'humidity': 0.85, 'pressure': 1015.52, 'windSpeed': 2.43, 'windGust': 3.47, 'windBearing': 183, 'cloudCover': 1, 'visibility': 10}, {'time': 1270141200, 'summary': 'Overcast', 'icon': 'cloudy', 'precipIntensity': 0, 'precipProbability': 0, 'temperature': 43.03, 'apparentTemperature': 40.77, 'dewPoint': 37.19, 'humidity': 0.8, 'pressure': 1015.49, 'windSpeed': 4.06, 'windGust': 6.8, 'windBearing': 185, 'cloudCover': 1, 'visibility': 10}, {'time': 1270144800, 'summary': 'Mostly Cloudy', 'icon': 'partly-cloudy-day', 'precipIntensity': 0.0004, 'precipProbability': 0.05, 'precipType': 'rain', 'temperature': 45.31, 'apparentTemperature': 42.77, 'dewPoint': 37.21, 'humidity': 0.73, 'pressure': 1015.76, 'windSpeed': 4.91, 'windGust': 8.66, 'windBearing': 190, 'cloudCover': 0.9, 'visibility': 10}, {'time': 1270148400, 'summary': 'Mostly Cloudy', 'icon': 'partly-cloudy-day', 'precipIntensity': 0.0008, 'precipProbability': 0.09, 'precipType': 'rain', 'temperature': 46.51, 'apparentTemperature': 44.54, 'dewPoint': 37.31, 'humidity': 0.7, 'pressure': 1015.73, 'windSpeed': 4.39, 'windGust': 8.67, 'windBearing': 199, 'cloudCover': 0.88, 'visibility': 10}, {'time': 1270152000, 'summary': 'Mostly Cloudy', 'icon': 'partly-cloudy-day', 'precipIntensity': 0.0012, 'precipProbability': 0.12, 'precipType': 'rain', 'temperature': 47.72, 'apparentTemperature': 45.94, 'dewPoint': 36.93, 'humidity': 0.66, 'pressure': 1015.64, 'windSpeed': 4.4, 'windGust': 9.51, 'windBearing': 204, 'cloudCover': 0.84, 'visibility': 10}, {'time': 1270155600, 'summary': 'Mostly Cloudy', 'icon': 'partly-cloudy-day', 'precipIntensity': 0.0047, 'precipProbability': 0.17, 'precipType': 'rain', 'temperature': 47.42, 'apparentTemperature': 45.51, 'dewPoint': 37.47, 'humidity': 0.68, 'pressure': 1015.41, 'windSpeed': 4.52, 'windGust': 9.84, 'windBearing': 216, 'cloudCover': 0.85, 'visibility': 10}, {'time': 1270159200, 'summary': 'Mostly Cloudy', 'icon': 'partly-cloudy-day', 'precipIntensity': 0.0074, 'precipProbability': 0.33, 'precipType': 'rain', 'temperature': 47.46, 'apparentTemperature': 45.6, 'dewPoint': 37.82, 'humidity': 0.69, 'pressure': 1015.48, 'windSpeed': 4.45, 'windGust': 9.84, 'windBearing': 218, 'cloudCover': 0.85, 'visibility': 10}, {'time': 1270162800, 'summary': 'Mostly Cloudy', 'icon': 'partly-cloudy-day', 'precipIntensity': 0.0079, 'precipProbability': 0.39, 'precipType': 'rain', 'temperature': 47.19, 'apparentTemperature': 46.18, 'dewPoint': 36.87, 'humidity': 0.67, 'pressure': 1015.44, 'windSpeed': 3.34, 'windGust': 8.27, 'windBearing': 207, 'cloudCover': 0.66, 'visibility': 10}, {'time': 1270166400, 'summary': 'Partly Cloudy', 'icon': 'partly-cloudy-day', 'precipIntensity': 0.0046, 'precipProbability': 0.22, 'precipType': 'rain', 'temperature': 47.65, 'apparentTemperature': 46.97, 'dewPoint': 36.43, 'humidity': 0.65, 'pressure': 1015.12, 'windSpeed': 3.05, 'windGust': 5.53, 'windBearing': 190, 'cloudCover': 0.41, 'visibility': 10}, {'time': 1270170000, 'summary': 'Mostly Cloudy', 'icon': 'partly-cloudy-day', 'precipIntensity': 0.0016, 'precipProbability': 0.12, 'precipType': 'rain', 'temperature': 47.35, 'apparentTemperature': 47.35, 'dewPoint': 35.91, 'humidity': 0.64, 'pressure': 1014.84, 'windSpeed': 2.13, 'windGust': 5.01, 'windBearing': 171, 'cloudCover': 0.69, 'visibility': 10}, {'time': 1270173600, 'summary': 'Mostly Cloudy', 'icon': 'partly-cloudy-day', 'precipIntensity': 0.0008, 'precipProbability': 0.08, 'precipType': 'rain', 'temperature': 45.66, 'apparentTemperature': 45.66, 'dewPoint': 35.76, 'humidity': 0.68, 'pressure': 1014.87, 'windSpeed': 2.19, 'windGust': 6.28, 'windBearing': 193, 'cloudCover': 0.86, 'visibility': 10}, {'time': 1270177200, 'summary': 'Mostly Cloudy', 'icon': 'partly-cloudy-night', 'precipIntensity': 0.0022, 'precipProbability': 0.19, 'precipType': 'rain', 'temperature': 43.3, 'apparentTemperature': 43.3, 'dewPoint': 35.88, 'humidity': 0.75, 'pressure': 1014.49, 'windSpeed': 2.88, 'windGust': 5.92, 'windBearing': 179, 'cloudCover': 0.92, 'visibility': 10}, {'time': 1270180800, 'summary': 'Mostly Cloudy', 'icon': 'partly-cloudy-night', 'precipIntensity': 0.0018, 'precipProbability': 0.14, 'precipType': 'rain', 'temperature': 42.18, 'apparentTemperature': 42.18, 'dewPoint': 36.31, 'humidity': 0.8, 'pressure': 1014.63, 'windSpeed': 1.77, 'windGust': 3.16, 'windBearing': 172, 'cloudCover': 0.92, 'visibility': 10}, {'time': 1270184400, 'summary': 'Mostly Cloudy', 'icon': 'partly-cloudy-night', 'precipIntensity': 0.0002, 'precipProbability': 0.05, 'precipType': 'rain', 'temperature': 41.76, 'apparentTemperature': 41.76, 'dewPoint': 35.94, 'humidity': 0.8, 'pressure': 1013.99, 'windSpeed': 1.84, 'windGust': 3.6, 'windBearing': 150, 'cloudCover': 0.83, 'visibility': 10}, {'time': 1270188000, 'summary': 'Mostly Cloudy', 'icon': 'partly-cloudy-night', 'precipIntensity': 0, 'precipProbability': 0, 'temperature': 41.43, 'apparentTemperature': 41.43, 'dewPoint': 35.2, 'humidity': 0.78, 'pressure': 1013.32, 'windSpeed': 2.08, 'windGust': 4.02, 'windBearing': 155, 'cloudCover': 0.86, 'visibility': 10}]}, 'daily': {'data': [{'time': 1270105200, 'summary': 'Mostly cloudy throughout the day.', 'icon': 'partly-cloudy-day', 'sunriseTime': 1270129691, 'sunsetTime': 1270175936, 'moonPhase': 0.6, 'precipIntensity': 0.0018, 'precipIntensityMax': 0.0079, 'precipIntensityMaxTime': 1270162800, 'precipProbability': 0.39, 'precipType': 'rain', 'temperatureHigh': 47.72, 'temperatureHighTime': 1270152000, 'temperatureLow': 39.56, 'temperatureLowTime': 1270220400, 'apparentTemperatureHigh': 47.35, 'apparentTemperatureHighTime': 1270170000, 'apparentTemperatureLow': 36.51, 'apparentTemperatureLowTime': 1270220400, 'dewPoint': 36.19, 'humidity': 0.79, 'pressure': 1014.99, 'windSpeed': 2.26, 'windGust': 9.84, 'windGustTime': 1270155600, 'windBearing': 188, 'cloudCover': 0.83, 'visibility': 10, 'temperatureMin': 36.43, 'temperatureMinTime': 1270126800, 'temperatureMax': 47.72, 'temperatureMaxTime': 1270152000, 'apparentTemperatureMin': 36.43, 'apparentTemperatureMinTime': 1270126800, 'apparentTemperatureMax': 47.35, 'apparentTemperatureMaxTime': 1270170000}]}, 'flags': {'sources': ['cmc', 'gfs', 'hrrr', 'icon', 'isd', 'madis', 'nam', 'sref'], 'nearest-station': 1.827, 'units': 'us'}, 'offset': -7}\n",
      "DAY LOOP Starting time stamp for next day: 2010-04-02 00:00:00\n",
      "No leap year identified\n",
      "Starting stamp for next year 1301641200\n",
      "YEAR LOOP Starting time stamp for first day of the next year: 2011-04-01 00:00:00\n"
     ]
    }
   ],
   "source": [
    "%run dark_sky_api_call.py \"34e20d9941ae628fa27ca2fd15a31adc\" 1270105200 1 1 \"47.165197,-122.171723\""
   ]
  }
 ],
 "metadata": {
  "kernelspec": {
   "display_name": "Python 3",
   "language": "python",
   "name": "python3"
  },
  "language_info": {
   "codemirror_mode": {
    "name": "ipython",
    "version": 3
   },
   "file_extension": ".py",
   "mimetype": "text/x-python",
   "name": "python",
   "nbconvert_exporter": "python",
   "pygments_lexer": "ipython3",
   "version": "3.6.6"
  }
 },
 "nbformat": 4,
 "nbformat_minor": 2
}
